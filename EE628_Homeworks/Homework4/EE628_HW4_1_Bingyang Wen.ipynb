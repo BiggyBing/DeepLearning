{
 "cells": [
  {
   "cell_type": "code",
   "execution_count": 1,
   "metadata": {},
   "outputs": [
    {
     "name": "stderr",
     "output_type": "stream",
     "text": [
      "Using TensorFlow backend.\n"
     ]
    }
   ],
   "source": [
    "from keras.layers import Input, Dense\n",
    "from keras.models import Model"
   ]
  },
  {
   "cell_type": "code",
   "execution_count": 3,
   "metadata": {},
   "outputs": [],
   "source": [
    "# this is the size of our encoded representations\n",
    "encoding_dim = 32  \n",
    "# 32 floats -> compression of factor 24.5, assuming the input is 784 floats\n",
    "# this is our input placeholder\n",
    "input_img = Input(shape=(784,))\n",
    "# \"encoded\" is the encoded representation of the input\n",
    "encoded = Dense(encoding_dim, activation='relu')(input_img)\n",
    "# \"decoded\" is the lossy reconstruction of the input\n",
    "decoded = Dense(784, activation='sigmoid')(encoded)"
   ]
  },
  {
   "cell_type": "code",
   "execution_count": 4,
   "metadata": {
    "collapsed": true
   },
   "outputs": [],
   "source": [
    "# this model maps an input to its reconstruction\n",
    "autoencoder = Model(input_img, decoded)\n",
    "# this model maps an input to its encoded representation\n",
    "encoder = Model(input_img, encoded)"
   ]
  },
  {
   "cell_type": "code",
   "execution_count": 5,
   "metadata": {
    "collapsed": true
   },
   "outputs": [],
   "source": [
    "# create a placeholder for an encoded (32-dimensional) input\n",
    "encoded_input = Input(shape=(encoding_dim,))\n",
    "# retrieve the last layer of the autoencoder model\n",
    "decoder_layer = autoencoder.layers[-1]\n",
    "# create the decoder model\n",
    "decoder = Model(encoded_input, decoder_layer(encoded_input))"
   ]
  },
  {
   "cell_type": "code",
   "execution_count": 6,
   "metadata": {
    "collapsed": true
   },
   "outputs": [],
   "source": [
    "autoencoder.compile(optimizer='adadelta', loss='binary_crossentropy')"
   ]
  },
  {
   "cell_type": "code",
   "execution_count": 7,
   "metadata": {
    "collapsed": true
   },
   "outputs": [],
   "source": [
    "from keras.datasets import mnist\n",
    "import numpy as np\n",
    "(x_train, _), (x_test, _) = mnist.load_data()"
   ]
  },
  {
   "cell_type": "code",
   "execution_count": 8,
   "metadata": {},
   "outputs": [
    {
     "name": "stdout",
     "output_type": "stream",
     "text": [
      "(60000, 784)\n",
      "(10000, 784)\n"
     ]
    }
   ],
   "source": [
    "x_train = x_train.astype('float32') / 255.\n",
    "x_test = x_test.astype('float32') / 255.\n",
    "x_train = x_train.reshape((len(x_train), np.prod(x_train.shape[1:])))\n",
    "x_test = x_test.reshape((len(x_test), np.prod(x_test.shape[1:])))\n",
    "print x_train.shape\n",
    "print x_test.shape"
   ]
  },
  {
   "cell_type": "code",
   "execution_count": 9,
   "metadata": {},
   "outputs": [
    {
     "name": "stdout",
     "output_type": "stream",
     "text": [
      "Train on 60000 samples, validate on 10000 samples\n",
      "Epoch 1/50\n",
      "60000/60000 [==============================] - 3s - loss: 0.3764 - val_loss: 0.2727\n",
      "Epoch 2/50\n",
      "60000/60000 [==============================] - 2s - loss: 0.2657 - val_loss: 0.2558\n",
      "Epoch 3/50\n",
      "60000/60000 [==============================] - 2s - loss: 0.2468 - val_loss: 0.2351\n",
      "Epoch 4/50\n",
      "60000/60000 [==============================] - 2s - loss: 0.2274 - val_loss: 0.2169\n",
      "Epoch 5/50\n",
      "60000/60000 [==============================] - 2s - loss: 0.2116 - val_loss: 0.2036\n",
      "Epoch 6/50\n",
      "60000/60000 [==============================] - 2s - loss: 0.2001 - val_loss: 0.1937\n",
      "Epoch 7/50\n",
      "60000/60000 [==============================] - 3s - loss: 0.1910 - val_loss: 0.1854\n",
      "Epoch 8/50\n",
      "60000/60000 [==============================] - 2s - loss: 0.1833 - val_loss: 0.1786\n",
      "Epoch 9/50\n",
      "60000/60000 [==============================] - 2s - loss: 0.1769 - val_loss: 0.1726\n",
      "Epoch 10/50\n",
      "60000/60000 [==============================] - 2s - loss: 0.1714 - val_loss: 0.1675\n",
      "Epoch 11/50\n",
      "60000/60000 [==============================] - 2s - loss: 0.1665 - val_loss: 0.1629\n",
      "Epoch 12/50\n",
      "60000/60000 [==============================] - 2s - loss: 0.1622 - val_loss: 0.1587\n",
      "Epoch 13/50\n",
      "60000/60000 [==============================] - 2s - loss: 0.1582 - val_loss: 0.1549\n",
      "Epoch 14/50\n",
      "60000/60000 [==============================] - 2s - loss: 0.1546 - val_loss: 0.1514\n",
      "Epoch 15/50\n",
      "60000/60000 [==============================] - 2s - loss: 0.1512 - val_loss: 0.1481\n",
      "Epoch 16/50\n",
      "60000/60000 [==============================] - 2s - loss: 0.1481 - val_loss: 0.1451\n",
      "Epoch 17/50\n",
      "60000/60000 [==============================] - 2s - loss: 0.1452 - val_loss: 0.1423\n",
      "Epoch 18/50\n",
      "60000/60000 [==============================] - 2s - loss: 0.1425 - val_loss: 0.1397\n",
      "Epoch 19/50\n",
      "60000/60000 [==============================] - 2s - loss: 0.1400 - val_loss: 0.1372\n",
      "Epoch 20/50\n",
      "60000/60000 [==============================] - 2s - loss: 0.1376 - val_loss: 0.1349\n",
      "Epoch 21/50\n",
      "60000/60000 [==============================] - 2s - loss: 0.1354 - val_loss: 0.1327\n",
      "Epoch 22/50\n",
      "60000/60000 [==============================] - 2s - loss: 0.1333 - val_loss: 0.1307\n",
      "Epoch 23/50\n",
      "60000/60000 [==============================] - 2s - loss: 0.1312 - val_loss: 0.1287\n",
      "Epoch 24/50\n",
      "60000/60000 [==============================] - 2s - loss: 0.1293 - val_loss: 0.1268\n",
      "Epoch 25/50\n",
      "60000/60000 [==============================] - 2s - loss: 0.1275 - val_loss: 0.1250\n",
      "Epoch 26/50\n",
      "60000/60000 [==============================] - 2s - loss: 0.1257 - val_loss: 0.1232\n",
      "Epoch 27/50\n",
      "60000/60000 [==============================] - 2s - loss: 0.1240 - val_loss: 0.1216\n",
      "Epoch 28/50\n",
      "60000/60000 [==============================] - 2s - loss: 0.1224 - val_loss: 0.1200\n",
      "Epoch 29/50\n",
      "60000/60000 [==============================] - 2s - loss: 0.1209 - val_loss: 0.1187\n",
      "Epoch 30/50\n",
      "60000/60000 [==============================] - 2s - loss: 0.1195 - val_loss: 0.1172\n",
      "Epoch 31/50\n",
      "60000/60000 [==============================] - 2s - loss: 0.1181 - val_loss: 0.1159\n",
      "Epoch 32/50\n",
      "60000/60000 [==============================] - 2s - loss: 0.1169 - val_loss: 0.1147\n",
      "Epoch 33/50\n",
      "60000/60000 [==============================] - 2s - loss: 0.1157 - val_loss: 0.1136\n",
      "Epoch 34/50\n",
      "60000/60000 [==============================] - 2s - loss: 0.1146 - val_loss: 0.1125\n",
      "Epoch 35/50\n",
      "60000/60000 [==============================] - 2s - loss: 0.1136 - val_loss: 0.1115\n",
      "Epoch 36/50\n",
      "60000/60000 [==============================] - 2s - loss: 0.1127 - val_loss: 0.1106\n",
      "Epoch 37/50\n",
      "60000/60000 [==============================] - 2s - loss: 0.1118 - val_loss: 0.1097\n",
      "Epoch 38/50\n",
      "60000/60000 [==============================] - 2s - loss: 0.1110 - val_loss: 0.1090\n",
      "Epoch 39/50\n",
      "60000/60000 [==============================] - 2s - loss: 0.1102 - val_loss: 0.1082\n",
      "Epoch 40/50\n",
      "60000/60000 [==============================] - 2s - loss: 0.1095 - val_loss: 0.1076\n",
      "Epoch 41/50\n",
      "60000/60000 [==============================] - 2s - loss: 0.1088 - val_loss: 0.1069\n",
      "Epoch 42/50\n",
      "60000/60000 [==============================] - 2s - loss: 0.1082 - val_loss: 0.1062\n",
      "Epoch 43/50\n",
      "60000/60000 [==============================] - 2s - loss: 0.1076 - val_loss: 0.1057\n",
      "Epoch 44/50\n",
      "60000/60000 [==============================] - 2s - loss: 0.1070 - val_loss: 0.1051\n",
      "Epoch 45/50\n",
      "60000/60000 [==============================] - 2s - loss: 0.1065 - val_loss: 0.1046\n",
      "Epoch 46/50\n",
      "60000/60000 [==============================] - 2s - loss: 0.1060 - val_loss: 0.1041\n",
      "Epoch 47/50\n",
      "60000/60000 [==============================] - 2s - loss: 0.1055 - val_loss: 0.1037\n",
      "Epoch 48/50\n",
      "60000/60000 [==============================] - 2s - loss: 0.1051 - val_loss: 0.1032\n",
      "Epoch 49/50\n",
      "60000/60000 [==============================] - 2s - loss: 0.1046 - val_loss: 0.1028\n",
      "Epoch 50/50\n",
      "60000/60000 [==============================] - 2s - loss: 0.1042 - val_loss: 0.1024\n"
     ]
    },
    {
     "data": {
      "text/plain": [
       "<keras.callbacks.History at 0x12329fdd0>"
      ]
     },
     "execution_count": 9,
     "metadata": {},
     "output_type": "execute_result"
    }
   ],
   "source": [
    "autoencoder.fit(x_train, x_train,epochs=50,batch_size=256,shuffle=True,validation_data=(x_test, x_test))"
   ]
  },
  {
   "cell_type": "code",
   "execution_count": 10,
   "metadata": {
    "collapsed": true
   },
   "outputs": [],
   "source": [
    "# encode and decode some digits\n",
    "# note that we take them from the *test* set\n",
    "encoded_imgs = encoder.predict(x_test)\n",
    "decoded_imgs = decoder.predict(encoded_imgs)"
   ]
  },
  {
   "cell_type": "code",
   "execution_count": 11,
   "metadata": {
    "collapsed": true
   },
   "outputs": [],
   "source": [
    "# use Matplotlib (don't ask)\n",
    "import matplotlib.pyplot as plt"
   ]
  },
  {
   "cell_type": "code",
   "execution_count": 12,
   "metadata": {
    "collapsed": true
   },
   "outputs": [],
   "source": [
    "n = 10  # how many digits we will display"
   ]
  },
  {
   "cell_type": "code",
   "execution_count": 13,
   "metadata": {},
   "outputs": [
    {
     "data": {
      "text/plain": [
       "<matplotlib.figure.Figure at 0x120c81d50>"
      ]
     },
     "execution_count": 13,
     "metadata": {},
     "output_type": "execute_result"
    }
   ],
   "source": [
    "plt.figure(figsize=(20, 4))"
   ]
  },
  {
   "cell_type": "code",
   "execution_count": 14,
   "metadata": {},
   "outputs": [
    {
     "data": {
      "image/png": "[encoded data removed]",
      "text/plain": [
       "<matplotlib.figure.Figure at 0x120c81d50>"
      ]
     },
     "metadata": {},
     "output_type": "display_data"
    },
    {
     "data": {
      "image/png": "[encoded data removed]",
      "text/plain": [
       "<matplotlib.figure.Figure at 0x121029810>"
      ]
     },
     "metadata": {},
     "output_type": "display_data"
    },
    {
     "data": {
      "image/png": "[encoded data removed]",
      "text/plain": [
       "<matplotlib.figure.Figure at 0x12100a6d0>"
      ]
     },
     "metadata": {},
     "output_type": "display_data"
    },
    {
     "data": {
      "image/png": "[encoded data removed]",
      "text/plain": [
       "<matplotlib.figure.Figure at 0x1235e4a10>"
      ]
     },
     "metadata": {},
     "output_type": "display_data"
    },
    {
     "data": {
      "image/png": "[encoded data removed]",
      "text/plain": [
       "<matplotlib.figure.Figure at 0x12374b050>"
      ]
     },
     "metadata": {},
     "output_type": "display_data"
    },
    {
     "data": {
      "image/png": "[encoded data removed]",
      "text/plain": [
       "<matplotlib.figure.Figure at 0x12378de50>"
      ]
     },
     "metadata": {},
     "output_type": "display_data"
    },
    {
     "data": {
      "image/png": "[encoded data removed]",
      "text/plain": [
       "<matplotlib.figure.Figure at 0x126950610>"
      ]
     },
     "metadata": {},
     "output_type": "display_data"
    },
    {
     "data": {
      "image/png": "[encoded data removed]",
      "text/plain": [
       "<matplotlib.figure.Figure at 0x126a52b90>"
      ]
     },
     "metadata": {},
     "output_type": "display_data"
    },
    {
     "data": {
      "image/png": "[encoded data removed]",
      "text/plain": [
       "<matplotlib.figure.Figure at 0x126b66b50>"
      ]
     },
     "metadata": {},
     "output_type": "display_data"
    },
    {
     "data": {
      "image/png": "[encoded data removed]",
      "text/plain": [
       "<matplotlib.figure.Figure at 0x126c78390>"
      ]
     },
     "metadata": {},
     "output_type": "display_data"
    }
   ],
   "source": [
    "for i in range(n):# display original\n",
    "    ax = plt.subplot(2, n, i + 1)\n",
    "    plt.imshow(x_test[i].reshape(28, 28))\n",
    "    plt.gray()\n",
    "    ax.get_xaxis().set_visible(False)\n",
    "    ax.get_yaxis().set_visible(False)\n",
    "    \n",
    "    # display reconstruction\n",
    "    ax = plt.subplot(2, n, i + 1 + n)\n",
    "    plt.imshow(decoded_imgs[i].reshape(28, 28))\n",
    "    plt.gray()\n",
    "    ax.get_xaxis().set_visible(False)\n",
    "    ax.get_yaxis().set_visible(False)\n",
    "    plt.show()"
   ]
  },
  {
   "cell_type": "code",
   "execution_count": null,
   "metadata": {
    "collapsed": true
   },
   "outputs": [],
   "source": []
  }
 ],
 "metadata": {
  "kernelspec": {
   "display_name": "Python 2",
   "language": "python",
   "name": "python2"
  },
  "language_info": {
   "codemirror_mode": {
    "name": "ipython",
    "version": 2
   },
   "file_extension": ".py",
   "mimetype": "text/x-python",
   "name": "python",
   "nbconvert_exporter": "python",
   "pygments_lexer": "ipython2",
   "version": "2.7.14"
  }
 },
 "nbformat": 4,
 "nbformat_minor": 2
}
