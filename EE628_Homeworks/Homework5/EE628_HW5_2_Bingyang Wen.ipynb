{
 "cells": [
  {
   "cell_type": "code",
   "execution_count": 7,
   "metadata": {},
   "outputs": [],
   "source": [
    "import numpy as np\n",
    "from sklearn.datasets import load_iris\n",
    "from keras.layers import Input, Dense\n",
    "from keras.models import Model\n",
    "import matplotlib.pyplot as plt"
   ]
  },
  {
   "cell_type": "code",
   "execution_count": 8,
   "metadata": {
    "collapsed": true
   },
   "outputs": [],
   "source": [
    "dataDir='D:/'\n",
    "file_name=dataDir + 'data1.csv'\n",
    "\n",
    "fRead= open(file_name, 'r')\n",
    "\n",
    "data=[]\n",
    "for line in fRead:\n",
    "    arr=line.strip('\\n').split(',')\n",
    "    data.append(arr)\n",
    "data=data[1:]"
   ]
  },
  {
   "cell_type": "code",
   "execution_count": 9,
   "metadata": {
    "collapsed": true
   },
   "outputs": [],
   "source": [
    "features = []\n",
    "label = []\n",
    "for i in range(len(data)):\n",
    "    try:\n",
    "        float(data[i][1])\n",
    "        features.append(data[i][0:28])\n",
    "        label.append(data[i][28])\n",
    "    except ValueError:\n",
    "        continue\n",
    "        \n",
    "features = np.asarray(features,dtype=float)\n",
    "label = np.asarray(label,dtype=int)"
   ]
  },
  {
   "cell_type": "code",
   "execution_count": 27,
   "metadata": {
    "collapsed": true
   },
   "outputs": [],
   "source": [
    "# this is the size of our encoded representations\n",
    "encoding_size = 2\n",
    "encoding_dim = [64,32,16,encoding_size] \n",
    "input_size = 28\n",
    "decoding_dim = [16,32,64,input_size]\n",
    "\n",
    "# this is our input placeholder\n",
    "input_data = Input(shape=(28,))\n",
    "# \"encoded\" is the encoded representation of the input\n",
    "encoded = Dense(encoding_dim[0], activation='relu')(input_data)\n",
    "encoded = Dense(encoding_dim[1], activation='relu')(encoded)\n",
    "encoded = Dense(encoding_dim[2], activation='relu')(encoded)\n",
    "encoded = Dense(encoding_dim[3], activation='relu')(encoded)\n",
    "# \"decoded\" is the lossy reconstruction of the input\n",
    "decoded = Dense(decoding_dim[0], activation='relu')(encoded)\n",
    "decoded = Dense(decoding_dim[1], activation='relu')(decoded)\n",
    "decoded = Dense(decoding_dim[2], activation='sigmoid')(decoded)\n",
    "decoded = Dense(decoding_dim[3], activation='tanh')(decoded)"
   ]
  },
  {
   "cell_type": "code",
   "execution_count": 28,
   "metadata": {
    "collapsed": true
   },
   "outputs": [],
   "source": [
    "autoencoder = Model(input_data, decoded)\n",
    "encoder = Model(input_data, encoded)"
   ]
  },
  {
   "cell_type": "code",
   "execution_count": 29,
   "metadata": {},
   "outputs": [],
   "source": [
    "encoded_input = Input(shape=(encoding_size,))\n",
    "decoder_layer1 = autoencoder.layers[-4]\n",
    "decoder_layer2 = autoencoder.layers[-3]\n",
    "decoder_layer3 = autoencoder.layers[-2]\n",
    "decoder_layer4 = autoencoder.layers[-1]\n",
    "decoder = Model(encoded_input, decoder_layer4(decoder_layer3(decoder_layer2(decoder_layer1(encoded_input)))) )"
   ]
  },
  {
   "cell_type": "code",
   "execution_count": 30,
   "metadata": {
    "collapsed": true
   },
   "outputs": [],
   "source": [
    "autoencoder.compile(optimizer='adadelta', loss='mean_squared_error')"
   ]
  },
  {
   "cell_type": "code",
   "execution_count": 31,
   "metadata": {},
   "outputs": [
    {
     "name": "stdout",
     "output_type": "stream",
     "text": [
      "Train on 227845 samples, validate on 56962 samples\n",
      "Epoch 1/50\n",
      "227845/227845 [==============================] - 3s - loss: 0.9705 - val_loss: 0.8535\n",
      "Epoch 2/50\n",
      "227845/227845 [==============================] - 2s - loss: 0.8850 - val_loss: 0.8214\n",
      "Epoch 3/50\n",
      "227845/227845 [==============================] - 2s - loss: 0.8496 - val_loss: 0.8072\n",
      "Epoch 4/50\n",
      "227845/227845 [==============================] - 2s - loss: 0.8295 - val_loss: 0.7962\n",
      "Epoch 5/50\n",
      "227845/227845 [==============================] - 2s - loss: 0.8156 - val_loss: 0.7809\n",
      "Epoch 6/50\n",
      "227845/227845 [==============================] - 2s - loss: 0.8036 - val_loss: 0.7702\n",
      "Epoch 7/50\n",
      "227845/227845 [==============================] - 2s - loss: 0.7924 - val_loss: 0.7702\n",
      "Epoch 8/50\n",
      "227845/227845 [==============================] - 2s - loss: 0.7834 - val_loss: 0.7590\n",
      "Epoch 9/50\n",
      "227845/227845 [==============================] - 2s - loss: 0.7761 - val_loss: 0.7448\n",
      "Epoch 10/50\n",
      "227845/227845 [==============================] - 2s - loss: 0.7703 - val_loss: 0.7421\n",
      "Epoch 11/50\n",
      "227845/227845 [==============================] - 2s - loss: 0.7653 - val_loss: 0.7424\n",
      "Epoch 12/50\n",
      "227845/227845 [==============================] - 2s - loss: 0.7608 - val_loss: 0.7344\n",
      "Epoch 13/50\n",
      "227845/227845 [==============================] - 3s - loss: 0.7569 - val_loss: 0.7306\n",
      "Epoch 14/50\n",
      "227845/227845 [==============================] - 3s - loss: 0.7534 - val_loss: 0.7313\n",
      "Epoch 15/50\n",
      "227845/227845 [==============================] - 3s - loss: 0.7501 - val_loss: 0.7188\n",
      "Epoch 16/50\n",
      "227845/227845 [==============================] - 2s - loss: 0.7472 - val_loss: 0.7216\n",
      "Epoch 17/50\n",
      "227845/227845 [==============================] - 2s - loss: 0.7442 - val_loss: 0.7122\n",
      "Epoch 18/50\n",
      "227845/227845 [==============================] - 3s - loss: 0.7414 - val_loss: 0.7110\n",
      "Epoch 19/50\n",
      "227845/227845 [==============================] - 4s - loss: 0.7388 - val_loss: 0.7087\n",
      "Epoch 20/50\n",
      "227845/227845 [==============================] - 3s - loss: 0.7363 - val_loss: 0.7049\n",
      "Epoch 21/50\n",
      "227845/227845 [==============================] - 2s - loss: 0.7341 - val_loss: 0.7041\n",
      "Epoch 22/50\n",
      "227845/227845 [==============================] - 3s - loss: 0.7320 - val_loss: 0.7059\n",
      "Epoch 23/50\n",
      "227845/227845 [==============================] - 3s - loss: 0.7299 - val_loss: 0.7015\n",
      "Epoch 24/50\n",
      "227845/227845 [==============================] - 2s - loss: 0.7273 - val_loss: 0.6961\n",
      "Epoch 25/50\n",
      "227845/227845 [==============================] - 3s - loss: 0.7252 - val_loss: 0.7051\n",
      "Epoch 26/50\n",
      "227845/227845 [==============================] - 3s - loss: 0.7234 - val_loss: 0.6951\n",
      "Epoch 27/50\n",
      "227845/227845 [==============================] - 3s - loss: 0.7217 - val_loss: 0.6967\n",
      "Epoch 28/50\n",
      "227845/227845 [==============================] - 3s - loss: 0.7202 - val_loss: 0.6913\n",
      "Epoch 29/50\n",
      "227845/227845 [==============================] - 2s - loss: 0.7187 - val_loss: 0.6914\n",
      "Epoch 30/50\n",
      "227845/227845 [==============================] - 3s - loss: 0.7174 - val_loss: 0.6933\n",
      "Epoch 31/50\n",
      "227845/227845 [==============================] - 3s - loss: 0.7162 - val_loss: 0.6969\n",
      "Epoch 32/50\n",
      "227845/227845 [==============================] - 2s - loss: 0.7149 - val_loss: 0.6864\n",
      "Epoch 33/50\n",
      "227845/227845 [==============================] - 3s - loss: 0.7138 - val_loss: 0.6892\n",
      "Epoch 34/50\n",
      "227845/227845 [==============================] - 3s - loss: 0.7126 - val_loss: 0.6897\n",
      "Epoch 35/50\n",
      "227845/227845 [==============================] - 2s - loss: 0.7114 - val_loss: 0.7075\n",
      "Epoch 36/50\n",
      "227845/227845 [==============================] - 2s - loss: 0.7102 - val_loss: 0.6803\n",
      "Epoch 37/50\n",
      "227845/227845 [==============================] - 3s - loss: 0.7091 - val_loss: 0.6930\n",
      "Epoch 38/50\n",
      "227845/227845 [==============================] - 4s - loss: 0.7081 - val_loss: 0.6779\n",
      "Epoch 39/50\n",
      "227845/227845 [==============================] - 4s - loss: 0.7072 - val_loss: 0.6767\n",
      "Epoch 40/50\n",
      "227845/227845 [==============================] - 3s - loss: 0.7061 - val_loss: 0.6793\n",
      "Epoch 41/50\n",
      "227845/227845 [==============================] - 2s - loss: 0.7053 - val_loss: 0.6750\n",
      "Epoch 42/50\n",
      "227845/227845 [==============================] - 2s - loss: 0.7044 - val_loss: 0.6839\n",
      "Epoch 43/50\n",
      "227845/227845 [==============================] - 4s - loss: 0.7035 - val_loss: 0.6812\n",
      "Epoch 44/50\n",
      "227845/227845 [==============================] - 3s - loss: 0.7027 - val_loss: 0.6761\n",
      "Epoch 45/50\n",
      "227845/227845 [==============================] - 2s - loss: 0.7020 - val_loss: 0.6851\n",
      "Epoch 46/50\n",
      "227845/227845 [==============================] - 3s - loss: 0.7009 - val_loss: 0.6704\n",
      "Epoch 47/50\n",
      "227845/227845 [==============================] - 2s - loss: 0.7004 - val_loss: 0.6741\n",
      "Epoch 48/50\n",
      "227845/227845 [==============================] - 4s - loss: 0.6996 - val_loss: 0.6727\n",
      "Epoch 49/50\n",
      "227845/227845 [==============================] - 2s - loss: 0.6989 - val_loss: 0.6786\n",
      "Epoch 50/50\n",
      "227845/227845 [==============================] - 2s - loss: 0.6982 - val_loss: 0.6868\n"
     ]
    },
    {
     "data": {
      "text/plain": [
       "<keras.callbacks.History at 0x2add25bcb38>"
      ]
     },
     "execution_count": 31,
     "metadata": {},
     "output_type": "execute_result"
    }
   ],
   "source": [
    "autoencoder.fit(features,features,epochs=50,batch_size=256,shuffle=True,validation_split=0.2)"
   ]
  },
  {
   "cell_type": "code",
   "execution_count": 32,
   "metadata": {
    "collapsed": true
   },
   "outputs": [],
   "source": [
    "reconstruction_error = np.array([])\n",
    "\n",
    "encoded = encoder.predict(features)\n",
    "decoded = np.asarray(decoder.predict(encoded))\n",
    "error = features - decoded\n",
    "for i in range(error.shape[0]):\n",
    "    reconstruction_error = np.append(reconstruction_error, sum(error[i]))"
   ]
  },
  {
   "cell_type": "code",
   "execution_count": 33,
   "metadata": {},
   "outputs": [
    {
     "data": {
      "image/png": "[encoded data removed]",
      "text/plain": [
       "<matplotlib.figure.Figure at 0x2ade627ae80>"
      ]
     },
     "metadata": {},
     "output_type": "display_data"
    }
   ],
   "source": [
    "#Plotting Histogram\n",
    "plt.hist(reconstruction_error,bins='auto')\n",
    "plt.title('Reconstrution Error Histogram')\n",
    "plt.xlim(-50,50)\n",
    "plt.show()"
   ]
  },
  {
   "cell_type": "code",
   "execution_count": 50,
   "metadata": {
    "collapsed": true
   },
   "outputs": [],
   "source": [
    "#Loading Vanilla AE Reconstrution error\n",
    "Re_error_part1 = np.load('D:/Re_error_vinilla.npy')"
   ]
  },
  {
   "cell_type": "code",
   "execution_count": 51,
   "metadata": {},
   "outputs": [
    {
     "data": {
      "image/png": "[encoded data removed]",
      "text/plain": [
       "<matplotlib.figure.Figure at 0x2adee9de4a8>"
      ]
     },
     "metadata": {},
     "output_type": "display_data"
    }
   ],
   "source": [
    "#Plotting Histogram and Compare between vanilla AE and Deep AE\n",
    "plt.figure()\n",
    "plt.hist(reconstruction_error,alpha=0.5,bins = 'auto',label='Deep AE')\n",
    "plt.hist(Re_error_part1,bins = 'auto',alpha=0.5,label='Vanilla AE')\n",
    "plt.legend(loc='upper right')\n",
    "\n",
    "plt.title('Reconstrution Error Compare')\n",
    "plt.xlim(-50,50)\n",
    "plt.show()"
   ]
  },
  {
   "cell_type": "code",
   "execution_count": 34,
   "metadata": {
    "collapsed": true
   },
   "outputs": [],
   "source": [
    "#Index classifications\n",
    "class1 = np.array([], dtype = int)\n",
    "class2 = np.array([], dtype = int)\n",
    "for i in range(label.shape[0]):\n",
    "    if label[i]==0:\n",
    "        class1 = np.append(class1, i)\n",
    "    else:\n",
    "        class2 = np.append(class2, i)"
   ]
  },
  {
   "cell_type": "code",
   "execution_count": 35,
   "metadata": {
    "collapsed": true
   },
   "outputs": [],
   "source": [
    "#Sample latent vectors\n",
    "x = np.array([])\n",
    "y = np.array([])\n",
    "for i in range(encoded.shape[0]):\n",
    "    x = np.append(x, encoded[i,0])\n",
    "    y = np.append(y, encoded[i,1])"
   ]
  },
  {
   "cell_type": "code",
   "execution_count": 36,
   "metadata": {},
   "outputs": [
    {
     "data": {
      "image/png": "[encoded data removed]",
      "text/plain": [
       "<matplotlib.figure.Figure at 0x2adeda87978>"
      ]
     },
     "metadata": {},
     "output_type": "display_data"
    }
   ],
   "source": [
    "#Question 3\n",
    "#Plotting latent vector\n",
    "plt.figure()\n",
    "plt.plot(x,y,'bo')\n",
    "plt.show()"
   ]
  },
  {
   "cell_type": "code",
   "execution_count": 37,
   "metadata": {},
   "outputs": [
    {
     "data": {
      "image/png": "[encoded data removed]",
      "text/plain": [
       "<matplotlib.figure.Figure at 0x2adee2d3a20>"
      ]
     },
     "metadata": {},
     "output_type": "display_data"
    }
   ],
   "source": [
    "#Question 4\n",
    "#Plotting scatter with label\n",
    "plt.figure()\n",
    "plt.plot(x[class1],y[class1],'go',x[class2],y[class2],'ro')\n",
    "plt.show()"
   ]
  }
 ],
 "metadata": {
  "kernelspec": {
   "display_name": "Python 3",
   "language": "python",
   "name": "python3"
  },
  "language_info": {
   "codemirror_mode": {
    "name": "ipython",
    "version": 3
   },
   "file_extension": ".py",
   "mimetype": "text/x-python",
   "name": "python",
   "nbconvert_exporter": "python",
   "pygments_lexer": "ipython3",
   "version": "3.5.4"
  }
 },
 "nbformat": 4,
 "nbformat_minor": 2
}
