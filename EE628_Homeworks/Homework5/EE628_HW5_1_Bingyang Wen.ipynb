{
 "cells": [
  {
   "cell_type": "code",
   "execution_count": 158,
   "metadata": {},
   "outputs": [],
   "source": [
    "import numpy as np\n",
    "from sklearn.datasets import load_iris\n",
    "from keras.layers import Input, Dense\n",
    "from keras.models import Model\n",
    "import matplotlib.pyplot as plt"
   ]
  },
  {
   "cell_type": "code",
   "execution_count": 38,
   "metadata": {},
   "outputs": [],
   "source": [
    "dataDir='D:/'\n",
    "file_name=dataDir + 'data1.csv'\n",
    "\n",
    "fRead= open(file_name, 'r')\n",
    "\n",
    "data=[]\n",
    "for line in fRead:\n",
    "    arr=line.strip('\\n').split(',')\n",
    "    data.append(arr)\n",
    "data=data[1:]"
   ]
  },
  {
   "cell_type": "code",
   "execution_count": 124,
   "metadata": {},
   "outputs": [],
   "source": [
    "features = []\n",
    "label = []\n",
    "for i in range(len(data)):\n",
    "    try:\n",
    "        float(data[i][1])\n",
    "        features.append(data[i][0:28])\n",
    "        label.append(data[i][28])\n",
    "    except ValueError:\n",
    "        continue\n",
    "        \n",
    "features = np.asarray(features,dtype=float)\n",
    "label = np.asarray(label,dtype=int)"
   ]
  },
  {
   "cell_type": "code",
   "execution_count": 130,
   "metadata": {},
   "outputs": [],
   "source": [
    "encoding_dim = 2  \n",
    "input_img = Input(shape=(28,))\n",
    "encoded = Dense(encoding_dim, activation='relu')(input_img)\n",
    "decoded = Dense(28, activation='tanh')(encoded)"
   ]
  },
  {
   "cell_type": "code",
   "execution_count": 132,
   "metadata": {},
   "outputs": [],
   "source": [
    "encoded_input = Input(shape=(encoding_dim,))\n",
    "# retrieve the last layer of the autoencoder model\n",
    "decoder_layer = autoencoder.layers[-1]\n",
    "# create the decoder model\n",
    "decoder = Model(encoded_input, decoder_layer(encoded_input))"
   ]
  },
  {
   "cell_type": "code",
   "execution_count": 133,
   "metadata": {
    "collapsed": true
   },
   "outputs": [],
   "source": [
    "autoencoder.compile(optimizer='adadelta', loss='mean_squared_error')"
   ]
  },
  {
   "cell_type": "code",
   "execution_count": 134,
   "metadata": {},
   "outputs": [
    {
     "name": "stdout",
     "output_type": "stream",
     "text": [
      "Train on 227845 samples, validate on 56962 samples\n",
      "Epoch 1/50\n",
      "227845/227845 [==============================] - 1s - loss: 1.0623 - val_loss: 0.9893\n",
      "Epoch 2/50\n",
      "227845/227845 [==============================] - 1s - loss: 0.9955 - val_loss: 0.9529\n",
      "Epoch 3/50\n",
      "227845/227845 [==============================] - 1s - loss: 0.9729 - val_loss: 0.9261\n",
      "Epoch 4/50\n",
      "227845/227845 [==============================] - 1s - loss: 0.9572 - val_loss: 0.9102\n",
      "Epoch 5/50\n",
      "227845/227845 [==============================] - 1s - loss: 0.9500 - val_loss: 0.9056\n",
      "Epoch 6/50\n",
      "227845/227845 [==============================] - 1s - loss: 0.9467 - val_loss: 0.9023\n",
      "Epoch 7/50\n",
      "227845/227845 [==============================] - 1s - loss: 0.9441 - val_loss: 0.8994\n",
      "Epoch 8/50\n",
      "227845/227845 [==============================] - 1s - loss: 0.9424 - val_loss: 0.8982\n",
      "Epoch 9/50\n",
      "227845/227845 [==============================] - 1s - loss: 0.9412 - val_loss: 0.8979\n",
      "Epoch 10/50\n",
      "227845/227845 [==============================] - 1s - loss: 0.9403 - val_loss: 0.8985\n",
      "Epoch 11/50\n",
      "227845/227845 [==============================] - 1s - loss: 0.9396 - val_loss: 0.8968\n",
      "Epoch 12/50\n",
      "227845/227845 [==============================] - 1s - loss: 0.9391 - val_loss: 0.8967\n",
      "Epoch 13/50\n",
      "227845/227845 [==============================] - 1s - loss: 0.9387 - val_loss: 0.8974\n",
      "Epoch 14/50\n",
      "227845/227845 [==============================] - 2s - loss: 0.9382 - val_loss: 0.8962\n",
      "Epoch 15/50\n",
      "227845/227845 [==============================] - 1s - loss: 0.9377 - val_loss: 0.8967\n",
      "Epoch 16/50\n",
      "227845/227845 [==============================] - 1s - loss: 0.9371 - val_loss: 0.8954\n",
      "Epoch 17/50\n",
      "227845/227845 [==============================] - 2s - loss: 0.9366 - val_loss: 0.8950\n",
      "Epoch 18/50\n",
      "227845/227845 [==============================] - 1s - loss: 0.9362 - val_loss: 0.8951\n",
      "Epoch 19/50\n",
      "227845/227845 [==============================] - 1s - loss: 0.9359 - val_loss: 0.8953\n",
      "Epoch 20/50\n",
      "227845/227845 [==============================] - 2s - loss: 0.9357 - val_loss: 0.8947\n",
      "Epoch 21/50\n",
      "227845/227845 [==============================] - 2s - loss: 0.9355 - val_loss: 0.8950\n",
      "Epoch 22/50\n",
      "227845/227845 [==============================] - 1s - loss: 0.9353 - val_loss: 0.8943\n",
      "Epoch 23/50\n",
      "227845/227845 [==============================] - 1s - loss: 0.9351 - val_loss: 0.8951\n",
      "Epoch 24/50\n",
      "227845/227845 [==============================] - 1s - loss: 0.9350 - val_loss: 0.8947\n",
      "Epoch 25/50\n",
      "227845/227845 [==============================] - 1s - loss: 0.9349 - val_loss: 0.8953\n",
      "Epoch 26/50\n",
      "227845/227845 [==============================] - 1s - loss: 0.9348 - val_loss: 0.8955\n",
      "Epoch 27/50\n",
      "227845/227845 [==============================] - 1s - loss: 0.9347 - val_loss: 0.8947\n",
      "Epoch 28/50\n",
      "227845/227845 [==============================] - 1s - loss: 0.9346 - val_loss: 0.8943\n",
      "Epoch 29/50\n",
      "227845/227845 [==============================] - 1s - loss: 0.9345 - val_loss: 0.8947\n",
      "Epoch 30/50\n",
      "227845/227845 [==============================] - 1s - loss: 0.9344 - val_loss: 0.8950\n",
      "Epoch 31/50\n",
      "227845/227845 [==============================] - 1s - loss: 0.9343 - val_loss: 0.8949\n",
      "Epoch 32/50\n",
      "227845/227845 [==============================] - 1s - loss: 0.9343 - val_loss: 0.8951\n",
      "Epoch 33/50\n",
      "227845/227845 [==============================] - 1s - loss: 0.9342 - val_loss: 0.8946\n",
      "Epoch 34/50\n",
      "227845/227845 [==============================] - 1s - loss: 0.9341 - val_loss: 0.8944\n",
      "Epoch 35/50\n",
      "227845/227845 [==============================] - 1s - loss: 0.9341 - val_loss: 0.8949\n",
      "Epoch 36/50\n",
      "227845/227845 [==============================] - 2s - loss: 0.9340 - val_loss: 0.8951\n",
      "Epoch 37/50\n",
      "227845/227845 [==============================] - 2s - loss: 0.9340 - val_loss: 0.8946\n",
      "Epoch 38/50\n",
      "227845/227845 [==============================] - 2s - loss: 0.9339 - val_loss: 0.8947\n",
      "Epoch 39/50\n",
      "227845/227845 [==============================] - 996s - loss: 0.9339 - val_loss: 0.8952\n",
      "Epoch 40/50\n",
      "227845/227845 [==============================] - 1s - loss: 0.9338 - val_loss: 0.8949\n",
      "Epoch 41/50\n",
      "227845/227845 [==============================] - 1s - loss: 0.9338 - val_loss: 0.8946\n",
      "Epoch 42/50\n",
      "227845/227845 [==============================] - 3s - loss: 0.9337 - val_loss: 0.8948\n",
      "Epoch 43/50\n",
      "227845/227845 [==============================] - 2s - loss: 0.9337 - val_loss: 0.8947\n",
      "Epoch 44/50\n",
      "227845/227845 [==============================] - 1s - loss: 0.9336 - val_loss: 0.8949\n",
      "Epoch 45/50\n",
      "227845/227845 [==============================] - 2s - loss: 0.9336 - val_loss: 0.8949\n",
      "Epoch 46/50\n",
      "227845/227845 [==============================] - 2s - loss: 0.9336 - val_loss: 0.8949\n",
      "Epoch 47/50\n",
      "227845/227845 [==============================] - 2s - loss: 0.9335 - val_loss: 0.8945\n",
      "Epoch 48/50\n",
      "227845/227845 [==============================] - 2s - loss: 0.9335 - val_loss: 0.8944\n",
      "Epoch 49/50\n",
      "227845/227845 [==============================] - 2s - loss: 0.9335 - val_loss: 0.8940\n",
      "Epoch 50/50\n",
      "227845/227845 [==============================] - 2s - loss: 0.9334 - val_loss: 0.8943\n"
     ]
    },
    {
     "data": {
      "text/plain": [
       "<keras.callbacks.History at 0x1ffa0814a58>"
      ]
     },
     "execution_count": 134,
     "metadata": {},
     "output_type": "execute_result"
    }
   ],
   "source": [
    "autoencoder.fit(features,features,epochs=50,batch_size=256,shuffle=True,validation_split=0.2)"
   ]
  },
  {
   "cell_type": "code",
   "execution_count": 156,
   "metadata": {},
   "outputs": [],
   "source": [
    "reconstruction_error = np.array([])\n",
    "\n",
    "encoded = encoder.predict(features)\n",
    "decoded = np.asarray(decoder.predict(encoded))\n",
    "error = features - decoded\n",
    "for i in range(error.shape[0]):\n",
    "    reconstruction_error = np.append(reconstruction_error, sum(error[i]))"
   ]
  },
  {
   "cell_type": "code",
   "execution_count": 195,
   "metadata": {
    "collapsed": true
   },
   "outputs": [],
   "source": [
    "#Save reconstruction error in order to compare in part 2\n",
    "np.save('D:/Re_error_vinilla',reconstruction_error)"
   ]
  },
  {
   "cell_type": "code",
   "execution_count": 165,
   "metadata": {},
   "outputs": [
    {
     "data": {
      "image/png": "[encoded data removed]",
      "text/plain": [
       "<matplotlib.figure.Figure at 0x1ffa1762d68>"
      ]
     },
     "metadata": {},
     "output_type": "display_data"
    }
   ],
   "source": [
    "#Plotting Histogram\n",
    "plt.hist(reconstruction_error,bins='auto')\n",
    "plt.title('Reconstrution Error Histogram')\n",
    "plt.xlim(-50,50)\n",
    "plt.show()"
   ]
  },
  {
   "cell_type": "code",
   "execution_count": 177,
   "metadata": {},
   "outputs": [],
   "source": [
    "#Index classifications\n",
    "class1 = np.array([], dtype = int)\n",
    "class2 = np.array([], dtype = int)\n",
    "for i in range(label.shape[0]):\n",
    "    if label[i]==0:\n",
    "        class1 = np.append(class1, i)\n",
    "    else:\n",
    "        class2 = np.append(class2, i)"
   ]
  },
  {
   "cell_type": "code",
   "execution_count": 188,
   "metadata": {
    "collapsed": true
   },
   "outputs": [],
   "source": [
    "#Sample latent vectors\n",
    "x = np.array([])\n",
    "y = np.array([])\n",
    "for i in range(encoded.shape[0]):\n",
    "    x = np.append(x, encoded[i,0])\n",
    "    y = np.append(y, encoded[i,1])"
   ]
  },
  {
   "cell_type": "code",
   "execution_count": 189,
   "metadata": {},
   "outputs": [
    {
     "data": {
      "text/plain": [
       "<matplotlib.figure.Figure at 0x2000907ab00>"
      ]
     },
     "metadata": {},
     "output_type": "display_data"
    },
    {
     "data": {
      "text/plain": [
       "<matplotlib.figure.Figure at 0x2000b9d47f0>"
      ]
     },
     "metadata": {},
     "output_type": "display_data"
    },
    {
     "data": {
      "image/png": "[encoded data removed]",
      "text/plain": [
       "<matplotlib.figure.Figure at 0x20009b202b0>"
      ]
     },
     "metadata": {},
     "output_type": "display_data"
    }
   ],
   "source": [
    "#Question 3\n",
    "#Plotting latent vector\n",
    "plt.figure()\n",
    "plt.plot(x,y,'bo')\n",
    "plt.show()"
   ]
  },
  {
   "cell_type": "code",
   "execution_count": 190,
   "metadata": {},
   "outputs": [
    {
     "data": {
      "text/plain": [
       "dtype('int32')"
      ]
     },
     "execution_count": 190,
     "metadata": {},
     "output_type": "execute_result"
    }
   ],
   "source": [
    "class1.dtype"
   ]
  },
  {
   "cell_type": "code",
   "execution_count": 191,
   "metadata": {},
   "outputs": [
    {
     "data": {
      "image/png": "[encoded data removed]",
      "text/plain": [
       "<matplotlib.figure.Figure at 0x20008f3f4a8>"
      ]
     },
     "metadata": {},
     "output_type": "display_data"
    }
   ],
   "source": [
    "#Question 4\n",
    "#Plotting scatter with label\n",
    "plt.figure()\n",
    "plt.plot(x[class1],y[class1],'go',x[class2],y[class2],'ro')\n",
    "plt.show()"
   ]
  },
  {
   "cell_type": "code",
   "execution_count": null,
   "metadata": {
    "collapsed": true
   },
   "outputs": [],
   "source": []
  }
 ],
 "metadata": {
  "kernelspec": {
   "display_name": "Python 3",
   "language": "python",
   "name": "python3"
  },
  "language_info": {
   "codemirror_mode": {
    "name": "ipython",
    "version": 3
   },
   "file_extension": ".py",
   "mimetype": "text/x-python",
   "name": "python",
   "nbconvert_exporter": "python",
   "pygments_lexer": "ipython3",
   "version": "3.5.4"
  }
 },
 "nbformat": 4,
 "nbformat_minor": 2
}
